{
 "cells": [
  {
   "cell_type": "markdown",
   "metadata": {},
   "source": [
    "# Some badges\n",
    "\n",
    "In github's notebook view, these links do not work\n",
    "\n",
    "[![build status](http://img.shields.io/travis/altair-viz/altair/master.svg?style=flat)](https://travis-ci.org/altair-viz/altair)\n",
    "[![Binder](https://beta.mybinder.org/badge.svg)](https://beta.mybinder.org/v2/gh/altair-viz/altair_notebooks/master)\n",
    "\n",
    "- Using ``target=_blank``:  <a href=\"https://travis-ci.org/altair-viz/altair\" target=\"_blank\"><img src=\"http://img.shields.io/travis/altair-viz/altair/master.svg?style=flat\"></a>\n",
    "- Using ``target=_parent``:  <a href=\"https://travis-ci.org/altair-viz/altair\" target=\"_parent\"><img src=\"http://img.shields.io/travis/altair-viz/altair/master.svg?style=flat\"></a>"
   ]
  }
 ],
 "metadata": {
  "kernelspec": {
   "display_name": "Python [default]",
   "language": "python",
   "name": "python3"
  },
  "language_info": {
   "codemirror_mode": {
    "name": "ipython",
    "version": 3
   },
   "file_extension": ".py",
   "mimetype": "text/x-python",
   "name": "python",
   "nbconvert_exporter": "python",
   "pygments_lexer": "ipython3",
   "version": "3.6.6"
  }
 },
 "nbformat": 4,
 "nbformat_minor": 2
}
