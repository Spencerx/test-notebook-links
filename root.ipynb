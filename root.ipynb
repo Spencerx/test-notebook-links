{
 "cells": [
  {
    "cell_type": "markdown",
    "metadata": {
      "id": "view-in-github",
      "colab_type": "text"
    },
    "source": [
      "[View in Colaboratory](https://colab.research.google.com/github/jakevdp/2013_fall_ASTR599/blob/master/test_notebook.ipynb)\n",
      "[![Open In Colab](https://colab.research.google.com/assets/colab-badge.svg)](https://colab.research.google.com/github/jakevdp/2013_fall_ASTR599/blob/master/test_notebook.ipynb)\n",
      "![Open In Colab](https://colab.research.google.com/assets/colab-badge.svg)\n",
      "<a href=\"https://colab.research.google.com/github/jakevdp/2013_fall_ASTR599/blob/master/test_notebook.ipynb\" target=\"_blank\"><img src=\"https://colab.research.google.com/assets/colab-badge.svg\" alt=\"Open In Colab\"/></a>\n",
      "<a href=\"https://colab.research.google.com/github/jakevdp/2013_fall_ASTR599/blob/master/test_notebook.ipynb\" target=\"_blank\"><img src=\"https://colab.research.google.com/assets/colab-badge.svg\" alt=\"Open In Colab\" href=\"https://colab.research.google.com/github/jakevdp/2013_fall_ASTR599/blob/master/test_notebook.ipynb\"/></a>\n"
    ]
  },
  {
   "cell_type": "markdown",
   "metadata": {},
   "source": [
    "# Some notebook links\n",
    "\n",
    "- [colab](http://colab.research.google.com/github/)\n",
    "- [foo.ipynb](foo.ipynb)\n",
    "- [foo.ipynb#Sub-Heading](foo.ipynb#Sub-Heading)\n",
    "- [subdirectory/bar.ipynb](subdirectory/bar.ipynb)\n",
    "- [text file](filename.txt)\n",
    "- [image file](butterfly.jpeg)"
   ]
  }
 ],
 "metadata": {
  "kernelspec": {
   "display_name": "Python [default]",
   "language": "python",
   "name": "python3"
  },
  "language_info": {
   "codemirror_mode": {
    "name": "ipython",
    "version": 3
   },
   "file_extension": ".py",
   "mimetype": "text/x-python",
   "name": "python",
   "nbconvert_exporter": "python",
   "pygments_lexer": "ipython3",
   "version": "3.6.6"
  }
 },
 "nbformat": 4,
 "nbformat_minor": 2
}
