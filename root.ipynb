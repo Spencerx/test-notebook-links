{
 "cells": [
  {
   "cell_type": "markdown",
   "metadata": {},
   "source": [
    "# Some notebook links\n",
    "\n",
    "- [colab](http://colab.research.google.com)\n",
    "- [foo.ipynb](foo.ipynb)\n",
    "- [foo.ipynb#Sub-Heading](foo.ipynb#Sub-Heading)\n",
    "- [subdirectory/bar.ipynb](subdirectory/bar.ipynb)\n",
    "- [text file](filename.txt)\n",
    "- [image file](butterfly.jpeg)"
   ]
  }
 ],
 "metadata": {
  "kernelspec": {
   "display_name": "Python [default]",
   "language": "python",
   "name": "python3"
  },
  "language_info": {
   "codemirror_mode": {
    "name": "ipython",
    "version": 3
   },
   "file_extension": ".py",
   "mimetype": "text/x-python",
   "name": "python",
   "nbconvert_exporter": "python",
   "pygments_lexer": "ipython3",
   "version": "3.6.6"
  }
 },
 "nbformat": 4,
 "nbformat_minor": 2
}
