{
  "nbformat": 4,
  "nbformat_minor": 0,
  "metadata": {
    "kernelspec": {
      "display_name": "Python [default]",
      "language": "python",
      "name": "python3"
    }
  },
  "cells": [
    {
      "cell_type": "markdown",
      "metadata": {
        "id": "view-in-github",
        "colab_type": "text"
      },
      "source": [
        "[![Open In Colab](https://colab.research.google.com/assets/colab-badge.svg)](https://colab.research.google.com/github/jakevdp/test-notebook-links/blob/master/root.ipynb)"
      ]
    },
    {
      "metadata": {
        "id": "F434vU2pp7AZ",
        "colab_type": "text"
      },
      "cell_type": "markdown",
      "source": [
        "## Some badges\n",
        "\n",
        "### Markdown\n",
        "\n",
        "[![Open In Colab](https://colab.research.google.com/assets/colab-badge.svg)](https://colab.research.google.com/github/jakevdp/test-notebook-links/blob/master/root.ipynb)\n",
        "\n",
        "### HTML\n",
        "\n",
        "<a href=\"https://colab.research.google.com/github/jakevdp/test-notebook-links/blob/master/root.ipynb\"><img src=\"https://colab.research.google.com/assets/colab-badge.svg\" alt=\"Open In Colab\"/></a>\n",
        "\n",
        "### HTML with target=blank\n",
        "\n",
        "<a href=\"https://colab.research.google.com/github/jakevdp/test-notebook-links/blob/master/root.ipynb\" target=\"_blank\"><img src=\"https://colab.research.google.com/assets/colab-badge.svg\" alt=\"Open In Colab\"/></a>\n",
        "\n",
        "### HTML with href tag in img\n",
        "\n",
        "<a href=\"https://colab.research.google.com/github/jakevdp/test-notebook-links/blob/master/root.ipynb\" target=\"_blank\"><img src=\"https://colab.research.google.com/assets/colab-badge.svg\" alt=\"Open In Colab\" href=\"https://colab.research.google.com/github/jakevdp/test-notebook-links/blob/master/root.ipynb\"/></a>"
      ]
    },
    {
      "metadata": {
        "id": "rJy9ZBz78XiF",
        "colab_type": "text"
      },
      "cell_type": "markdown",
      "source": [
        "# Some notebook links\n",
        "\n",
        "- [colab](http://colab.research.google.com/github/)\n",
        "- [foo.ipynb](foo.ipynb)\n",
        "- [foo.ipynb#Sub-Heading](foo.ipynb#Sub-Heading)\n",
        "- [subdirectory/bar.ipynb](subdirectory/bar.ipynb)\n",
        "- [text file](filename.txt)\n",
        "- [image file](butterfly.jpeg)"
      ]
    }
  ]
}
