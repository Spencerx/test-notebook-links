{
  "nbformat": 4,
  "nbformat_minor": 0,
  "metadata": {
    "colab": {
      "name": "root.ipynb",
      "version": "0.3.2",
      "provenance": [],
      "include_colab_link": true
    },
    "kernelspec": {
      "display_name": "Python [default]",
      "language": "python",
      "name": "python3"
    }
  },
  "cells": [
    {
      "cell_type": "markdown",
      "metadata": {
        "id": "view-in-github",
        "colab_type": "text"
      },
      "source": [
        "[![Open In Colab](https://colab.research.google.com/assets/colab-badge.svg)](https://colab.research.google.com/github/jakevdp/test-notebook-links/blob/master/root.ipynb)"
      ]
    },
    {
      "metadata": {
        "id": "rJy9ZBz78XiF",
        "colab_type": "text"
      },
      "cell_type": "markdown",
      "source": [
        "# Some notebook links\n",
        "\n",
        "- [colab](http://colab.research.google.com/github/)\n",
        "- [foo.ipynb](foo.ipynb)\n",
        "- [foo.ipynb#Sub-Heading](foo.ipynb#Sub-Heading)\n",
        "- [subdirectory/bar.ipynb](subdirectory/bar.ipynb)\n",
        "- [text file](filename.txt)\n",
        "- [image file](butterfly.jpeg)"
      ]
    }
  ]
}