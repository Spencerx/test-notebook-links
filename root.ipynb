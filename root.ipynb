{
  "nbformat": 4,
  "nbformat_minor": 0,
  "metadata": {
    "colab": {
      "name": "root.ipynb",
      "version": "0.3.2",
      "provenance": [],
      "include_colab_link": true
    },
    "kernelspec": {
      "display_name": "Python [default]",
      "language": "python",
      "name": "python3"
    }
  },
  "cells": [
    {
      "cell_type": "markdown",
      "metadata": {
        "id": "view-in-github",
        "colab_type": "text"
      },
      "source": [
        "<a href=\"https://colab.research.google.com/github/jakevdp/test-notebook-links/blob/master/root.ipynb\" target=\"_parent\"><img src=\"https://colab.research.google.com/assets/colab-badge.svg\" alt=\"Open In Colab\"/></a>"
      ]
    },
    {
      "metadata": {
        "colab_type": "text",
        "id": "F434vU2pp7AZ"
      },
      "cell_type": "markdown",
      "source": [
        "## Some badges\n",
        "[![build status](http://img.shields.io/travis/altair-viz/altair/master.svg?style=flat)](https://travis-ci.org/altair-viz/altair)\n",
        "[![Binder](https://beta.mybinder.org/badge.svg)](https://beta.mybinder.org/v2/gh/altair-viz/altair_notebooks/master)\n",
        "[![Colab](https://colab.research.google.com/assets/colab-badge.svg)](https://colab.research.google.com/github/altair-viz/altair_notebooks/blob/master/notebooks/Index.ipynb)"
      ]
    },
    {
      "metadata": {
        "colab_type": "text",
        "id": "rJy9ZBz78XiF"
      },
      "cell_type": "markdown",
      "source": [
        "# Some notebook links\n",
        "\n",
        "- [colab](http://colab.research.google.com/github/)\n",
        "- [foo.ipynb](foo.ipynb)\n",
        "- [foo.ipynb#Sub-Heading](foo.ipynb#Sub-Heading)\n",
        "- [subdirectory/bar.ipynb](subdirectory/bar.ipynb)\n",
        "- [text file](filename.txt)\n",
        "- [image file](butterfly.jpeg)"
      ]
    }
  ]
}